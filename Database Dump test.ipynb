{
 "cells": [
  {
   "cell_type": "code",
   "execution_count": 22,
   "metadata": {
    "collapsed": true
   },
   "outputs": [],
   "source": [
    "import psycopg2\n",
    "import pandas as pd"
   ]
  },
  {
   "cell_type": "code",
   "execution_count": 1,
   "metadata": {
    "collapsed": false
   },
   "outputs": [
    {
     "name": "stdout",
     "output_type": "stream",
     "text": [
      " vijay\n"
     ]
    }
   ],
   "source": [
    "print \" vijay\""
   ]
  },
  {
   "cell_type": "code",
   "execution_count": 2,
   "metadata": {
    "collapsed": true
   },
   "outputs": [],
   "source": [
    "my_boolean = 'True'"
   ]
  },
  {
   "cell_type": "code",
   "execution_count": 5,
   "metadata": {
    "collapsed": false
   },
   "outputs": [
    {
     "name": "stdout",
     "output_type": "stream",
     "text": [
      "True\n"
     ]
    }
   ],
   "source": [
    "print my_boolean"
   ]
  },
  {
   "cell_type": "code",
   "execution_count": 6,
   "metadata": {
    "collapsed": false
   },
   "outputs": [
    {
     "name": "stdout",
     "output_type": "stream",
     "text": [
      "False\n"
     ]
    }
   ],
   "source": [
    "my_boolean = 'False'\n",
    "print my_boolean "
   ]
  },
  {
   "cell_type": "code",
   "execution_count": 11,
   "metadata": {
    "collapsed": false
   },
   "outputs": [],
   "source": [
    "def connect_database():\n",
    "    try:\n",
    "        conn = psycopg2.connect(\"dbname='housing_analytics' user='dsl_readonly' host='127.0.0.1' password='dsl' port='5435'\")\n",
    "    except:\n",
    "        print \"Unable to connect to the database\"\n",
    "    cur = conn.cursor()\n",
    "    return cur\n",
    "\n",
    "cur = connect_database()"
   ]
  },
  {
   "cell_type": "code",
   "execution_count": 20,
   "metadata": {
    "collapsed": true
   },
   "outputs": [],
   "source": [
    "cur.execute('''select * from leads_channels limit 10;''')\n",
    "data = cur.fetchall()"
   ]
  },
  {
   "cell_type": "code",
   "execution_count": 21,
   "metadata": {
    "collapsed": false
   },
   "outputs": [
    {
     "name": "stdout",
     "output_type": "stream",
     "text": [
      "[('hyderabad', 'buy', 'bing / organic', '980905107', 12, 32913, 'desktop', datetime.date(2014, 7, 1), None), ('hyderabad', 'buy', 'bing / organic', '980905107', 11, 49838, 'desktop', datetime.date(2014, 7, 1), None), ('hyderabad', 'buy', 'google / organic', '1052816450', 2, 70656, 'desktop', datetime.date(2014, 7, 1), None), ('hyderabad', 'buy', 'google / organic', '1052816450', 2, 67584, 'desktop', datetime.date(2014, 7, 1), None), ('hyderabad', 'buy', 'google / organic', '1052816450', 2, 70658, 'desktop', datetime.date(2014, 7, 1), None), ('hyderabad', 'buy', 'google / organic', '1261136682', 2, 65451, 'desktop', datetime.date(2014, 7, 1), None), ('hyderabad', 'buy', 'google / organic', '1261136682', 2, 65451, 'desktop', datetime.date(2014, 7, 1), None), ('hyderabad', 'buy', 'google / organic', '1261136682', 2, 65451, 'desktop', datetime.date(2014, 7, 1), None), ('hyderabad', 'buy', 'google / organic', '487295818', 1, 68740, 'desktop', datetime.date(2014, 7, 1), None), ('hyderabad', 'buy', 'google / organic', '487295818', 1, 68740, 'desktop', datetime.date(2014, 7, 1), None)]\n"
     ]
    }
   ],
   "source": [
    "print data"
   ]
  },
  {
   "cell_type": "code",
   "execution_count": 24,
   "metadata": {
    "collapsed": false
   },
   "outputs": [],
   "source": [
    "df = pd.DataFrame(data)\n",
    "df.to_csv('Test.csv')"
   ]
  },
  {
   "cell_type": "code",
   "execution_count": null,
   "metadata": {
    "collapsed": true
   },
   "outputs": [],
   "source": []
  }
 ],
 "metadata": {
  "kernelspec": {
   "display_name": "Python 2",
   "language": "python",
   "name": "python2"
  },
  "language_info": {
   "codemirror_mode": {
    "name": "ipython",
    "version": 2
   },
   "file_extension": ".py",
   "mimetype": "text/x-python",
   "name": "python",
   "nbconvert_exporter": "python",
   "pygments_lexer": "ipython2",
   "version": "2.7.10"
  }
 },
 "nbformat": 4,
 "nbformat_minor": 0
}
